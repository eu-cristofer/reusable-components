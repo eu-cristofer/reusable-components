{
 "cells": [
  {
   "cell_type": "markdown",
   "metadata": {},
   "source": [
    "## Instruções de uso\n",
    "\n",
    "Copiar todas as fotos para uma pasta chamada 'Fotos para arquivar'.\n",
    "\n",
    "Esta pasta deve estar localizada no Desktop.\n",
    "\n",
    "Recomenda-se que os arquivos estejam nomeados com algum tag além do nome automaticamente gerado pelo equipamento. Por exemplo, ao invés de \"IMG123.JPG\", sugere-se utilizar \"Viagem UY IMG123.JPG\".\n",
    "\n",
    "Rodar a sequencia de comandos abaixo:"
   ]
  },
  {
   "cell_type": "code",
   "execution_count": 1,
   "metadata": {},
   "outputs": [],
   "source": [
    "import os\n",
    "from pathlib import Path\n",
    "import glob\n",
    "import datetime\n",
    "\n",
    "# Funções\n",
    "\n",
    "# Verificando a existência do diretório\n",
    "def VerificaExistencia(Caminho,NomeDaPasta):\n",
    "        \n",
    "    check = bool()\n",
    "    \n",
    "    for i in os.scandir(Caminho):\n",
    "        if i.name== NomeDaPasta and i.is_dir():\n",
    "            check = True\n",
    "            break\n",
    "        else:\n",
    "            check = False\n",
    "    return check\n",
    "\n",
    "# Acessa a pasta verificando se já existe\n",
    "def AcessaPasta(Ano,Mes):  \n",
    "    \n",
    "    if VerificaExistencia(os.getcwd(),Ano):\n",
    "        os.chdir(Ano)\n",
    "    else: \n",
    "        os.mkdir(Ano)\n",
    "        os.chdir(Ano)\n",
    "\n",
    "    if VerificaExistencia(os.getcwd(),Mes):\n",
    "        os.chdir(Mes)\n",
    "    else: \n",
    "        os.mkdir(Mes)\n",
    "        os.chdir(Mes)"
   ]
  },
  {
   "cell_type": "code",
   "execution_count": 2,
   "metadata": {},
   "outputs": [],
   "source": [
    "Ano=str()\n",
    "Mes=str()\n",
    "\n",
    "Raiz = str(Path.home()) + '/Desktop/Fotos para arquivar'\n",
    "\n",
    "os.chdir(Raiz)\n",
    "\n",
    "# For loop iterando por todos os arquivos\n",
    "for file in glob.glob('*'):\n",
    "    \n",
    "    # Obtendo a data em datetime\n",
    "    data = datetime.datetime.fromtimestamp(os.path.getmtime(file), tz=None)\n",
    "    \n",
    "    # Criando as string Ano e Mes\n",
    "    Ano = data.strftime(\"%Y\")\n",
    "    Mes = data.strftime(\"%m\") + \" - \" + data.strftime(\"%b\")\n",
    "    \n",
    "    # Verificando se já existe o diretorio e acessando\n",
    "    AcessaPasta(Ano,Mes)\n",
    "    \n",
    "    # Movendo o arquivo\n",
    "    os.replace(Raiz + \"/\" + file, os.getcwd() + \"/\" + file)\n",
    "    \n",
    "    os.chdir(Raiz)"
   ]
  }
 ],
 "metadata": {
  "kernelspec": {
   "display_name": "Python 3 (ipykernel)",
   "language": "python",
   "name": "python3"
  },
  "language_info": {
   "codemirror_mode": {
    "name": "ipython",
    "version": 3
   },
   "file_extension": ".py",
   "mimetype": "text/x-python",
   "name": "python",
   "nbconvert_exporter": "python",
   "pygments_lexer": "ipython3",
   "version": "3.9.12"
  }
 },
 "nbformat": 4,
 "nbformat_minor": 4
}
