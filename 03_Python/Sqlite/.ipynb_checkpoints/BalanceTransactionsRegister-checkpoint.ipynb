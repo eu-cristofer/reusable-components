{
 "cells": [
  {
   "cell_type": "code",
   "execution_count": 1,
   "id": "6661431e",
   "metadata": {},
   "outputs": [],
   "source": [
    "import sqlite3"
   ]
  },
  {
   "cell_type": "code",
   "execution_count": 21,
   "id": "aecb4d35",
   "metadata": {},
   "outputs": [],
   "source": [
    "con = sqlite3.connect('development.db')\n",
    "cur = con.cursor()"
   ]
  },
  {
   "cell_type": "code",
   "execution_count": 22,
   "id": "3092cd4d",
   "metadata": {},
   "outputs": [
    {
     "data": {
      "text/plain": [
       "<sqlite3.Cursor at 0x7fe532914650>"
      ]
     },
     "execution_count": 22,
     "metadata": {},
     "output_type": "execute_result"
    }
   ],
   "source": [
    "# Creating Tables\n",
    "\n",
    "cur.execute('''CREATE TABLE IF NOT EXISTS transactions\n",
    "               (date text, \n",
    "               type text, \n",
    "               symbol text, \n",
    "               qty real, \n",
    "               price real)''')\n",
    "\n",
    "cur.execute('''CREATE TABLE IF NOT EXISTS balance\n",
    "               (symbol text, \n",
    "               qty real)''')"
   ]
  },
  {
   "cell_type": "code",
   "execution_count": 23,
   "id": "27d0c389",
   "metadata": {},
   "outputs": [],
   "source": [
    "def updateBalance():\n",
    "    _,Type,Symbol,Qty,_ = cur.execute('SELECT * FROM transactions ORDER BY rowid DESC LIMIT 1').fetchone()\n",
    "    \n",
    "    DBSearch = cur.execute(\"SELECT * FROM balance WHERE symbol = '{}'\".format(Symbol)).fetchone()\n",
    "     \n",
    "    if DBSearch:\n",
    "        _, Balance = DBSearch\n",
    "        \n",
    "        def __update(Value, Symbol):\n",
    "            cur.execute(\"UPDATE balance SET qty = {} WHERE symbol = '{}'\".format(Value, Symbol))\n",
    "        \n",
    "        if Type == 'buy':\n",
    "            __update(Balance + Qty,Symbol)\n",
    "        else:\n",
    "            __update(Balance - Qty,Symbol)\n",
    "    \n",
    "    else:\n",
    "        def __insert(Value, Symbol):\n",
    "            cur.execute(\"INSERT INTO balance (symbol, qty) VALUES ('{}',{})\".format(Symbol, Value))\n",
    "        \n",
    "        if Type == 'buy':\n",
    "            __insert(Qty, Symbol)\n",
    "        else:\n",
    "            __insert(-Qty, Symbol)\n",
    "        \n",
    "    cur.execute('DELETE FROM balance WHERE qty = 0')\n",
    "    \n",
    "\n",
    "def registerOrder(Type,Symbol,Qty,Price):\n",
    "    # Insert a row of data\n",
    "    cur.execute('''INSERT INTO transactions\n",
    "        (date, type, symbol, qty, price)\n",
    "        VALUES\n",
    "        (datetime('now', 'localtime'),'{}','{}',{},{})'''.format(Type, Symbol, Qty, Price))\n",
    "    \n",
    "    updateBalance()\n",
    "    \n",
    "    con.commit()"
   ]
  },
  {
   "cell_type": "code",
   "execution_count": 8,
   "id": "01d15a5e",
   "metadata": {},
   "outputs": [],
   "source": [
    "registerOrder('sell','AAPL',100,72.80)"
   ]
  },
  {
   "cell_type": "code",
   "execution_count": 27,
   "id": "8897c23f",
   "metadata": {},
   "outputs": [],
   "source": [
    "registerOrder('buy','AAPL',100,72.80)"
   ]
  },
  {
   "cell_type": "code",
   "execution_count": 10,
   "id": "83f833cb",
   "metadata": {},
   "outputs": [],
   "source": [
    "registerOrder('sell','PETR4',100,72.80)"
   ]
  },
  {
   "cell_type": "code",
   "execution_count": 26,
   "id": "b863edcf",
   "metadata": {},
   "outputs": [],
   "source": [
    "registerOrder('buy','PETR4',100,72.80)"
   ]
  },
  {
   "cell_type": "code",
   "execution_count": 28,
   "id": "086f645d",
   "metadata": {},
   "outputs": [
    {
     "name": "stdout",
     "output_type": "stream",
     "text": [
      "('AAPL', 200.0)\n",
      "('PETR4', 200.0)\n"
     ]
    }
   ],
   "source": [
    "for row in cur.execute('SELECT * FROM balance ORDER BY rowid DESC'):\n",
    "        print(row)"
   ]
  },
  {
   "cell_type": "code",
   "execution_count": 29,
   "id": "82b6c67a",
   "metadata": {},
   "outputs": [
    {
     "name": "stdout",
     "output_type": "stream",
     "text": [
      "(8, '2022-03-02 19:30:00', 'buy', 'AAPL', 100.0, 72.8)\n",
      "(7, '2022-03-02 19:29:57', 'buy', 'PETR4', 100.0, 72.8)\n",
      "(6, '2022-03-02 19:25:01', 'buy', 'AAPL', 100.0, 72.8)\n",
      "(5, '2022-03-02 19:24:57', 'buy', 'PETR4', 100.0, 72.8)\n",
      "(4, '2022-03-02 19:24:24', 'buy', 'PETR4', 100.0, 72.8)\n",
      "(3, '2022-03-02 19:24:23', 'sell', 'PETR4', 100.0, 72.8)\n",
      "(2, '2022-03-02 19:24:22', 'buy', 'AAPL', 100.0, 72.8)\n",
      "(1, '2022-03-02 19:24:22', 'sell', 'AAPL', 100.0, 72.8)\n"
     ]
    }
   ],
   "source": [
    "for row in cur.execute('SELECT rowid,* FROM transactions ORDER BY rowid DESC'):\n",
    "        print(row)"
   ]
  },
  {
   "cell_type": "code",
   "execution_count": 19,
   "id": "4718e453",
   "metadata": {},
   "outputs": [],
   "source": [
    "# Close the connection if we are done with it.\n",
    "# Just be sure any changes have been committed or they will be lost.\n",
    "con.close()"
   ]
  }
 ],
 "metadata": {
  "kernelspec": {
   "display_name": "Python 3 (ipykernel)",
   "language": "python",
   "name": "python3"
  },
  "language_info": {
   "codemirror_mode": {
    "name": "ipython",
    "version": 3
   },
   "file_extension": ".py",
   "mimetype": "text/x-python",
   "name": "python",
   "nbconvert_exporter": "python",
   "pygments_lexer": "ipython3",
   "version": "3.9.7"
  }
 },
 "nbformat": 4,
 "nbformat_minor": 5
}
