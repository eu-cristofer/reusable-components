{
 "cells": [
  {
   "cell_type": "code",
   "execution_count": 1,
   "id": "f787e63e",
   "metadata": {},
   "outputs": [],
   "source": [
    "import buscaempregados\n",
    "import xlwings as xw\n",
    "import os"
   ]
  },
  {
   "cell_type": "code",
   "execution_count": 2,
   "id": "e999ac77",
   "metadata": {},
   "outputs": [],
   "source": [
    "def busca_email(chave):\n",
    "    empregado = buscaempregados.busca_empregado(chave)\n",
    "    return empregado['email']"
   ]
  },
  {
   "cell_type": "code",
   "execution_count": 3,
   "id": "930eeecd",
   "metadata": {},
   "outputs": [],
   "source": [
    "file_path = \"C:\\\\Users\\\\EMKA\\\\OneDrive - PETROBRAS\\\\09 - Projects\\\\Sinapse\\\\Lista de Itens de Conhecimento.xlsx\"\n",
    "wb = xw.Book(file_path)\n",
    "sheet = wb.sheets[\"Profissionais\"]"
   ]
  },
  {
   "cell_type": "code",
   "execution_count": 8,
   "id": "66857c6d",
   "metadata": {},
   "outputs": [
    {
     "name": "stdout",
     "output_type": "stream",
     "text": [
      "CSPC joilson_jr@petrobras.com.br\n",
      "EMKA cristofer@petrobras.com.br\n",
      "UT6E emrich@petrobras.com.br\n",
      "UP37 moraesbruno@petrobras.com.br\n",
      "URIE fernando.markovits@petrobras.com.br\n",
      "UT6B leandro.vergara@petrobras.com.br\n",
      "ELYV christiano.camilo@petrobras.com.br\n",
      "CSPJ mrsimoes@petrobras.com.br\n",
      "EO6D ricardocotrim@petrobras.com.br\n",
      "U3BN lannes@petrobras.com.br\n",
      "FEAN alexandremaia@petrobras.com.br\n",
      "EINP elizio.gomes@petrobras.com.br\n",
      "UQY7 f.onzi@petrobras.com.br\n",
      "U4TZ guilherme.agostinho@petrobras.com.br\n",
      "EIR6 lamark@petrobras.com.br\n",
      "CX4A migueljr@petrobras.com.br\n"
     ]
    }
   ],
   "source": [
    "for i in range(16):\n",
    "    chave = sheet.cells(i+2,4).value\n",
    "    # print(chave)\n",
    "    email = busca_email(chave)\n",
    "    sheet.cells(i+2,8).value = email\n",
    "    print(chave, email)"
   ]
  },
  {
   "cell_type": "code",
   "execution_count": null,
   "id": "f6615db1",
   "metadata": {},
   "outputs": [],
   "source": []
  }
 ],
 "metadata": {
  "kernelspec": {
   "display_name": "Python [conda env:py311] *",
   "language": "python",
   "name": "conda-env-py311-py"
  },
  "language_info": {
   "codemirror_mode": {
    "name": "ipython",
    "version": 3
   },
   "file_extension": ".py",
   "mimetype": "text/x-python",
   "name": "python",
   "nbconvert_exporter": "python",
   "pygments_lexer": "ipython3",
   "version": "3.11.4"
  }
 },
 "nbformat": 4,
 "nbformat_minor": 5
}
