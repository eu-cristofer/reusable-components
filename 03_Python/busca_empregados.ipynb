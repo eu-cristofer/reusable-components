{
 "cells": [
  {
   "cell_type": "code",
   "execution_count": 1,
   "id": "f787e63e",
   "metadata": {},
   "outputs": [],
   "source": [
    "import buscaempregados\n",
    "import xlwings as xw\n",
    "import os"
   ]
  },
  {
   "cell_type": "code",
   "execution_count": 2,
   "id": "e999ac77",
   "metadata": {},
   "outputs": [],
   "source": [
    "def busca_email(chave):\n",
    "    empregado = buscaempregados.busca_empregado(chave)\n",
    "    return empregado['email']"
   ]
  },
  {
   "cell_type": "code",
   "execution_count": 3,
   "id": "930eeecd",
   "metadata": {},
   "outputs": [],
   "source": [
    "file_path = \"C:\\\\Users\\\\EMKA\\\\OneDrive - PETROBRAS\\\\09 - Projects\\\\Sinapse\\\\Lista de Itens de Conhecimento.xlsx\"\n",
    "wb = xw.Book(file_path)\n",
    "sheet = wb.sheets[\"Profissionais\"]"
   ]
  },
  {
   "cell_type": "code",
   "execution_count": null,
   "id": "66857c6d",
   "metadata": {},
   "outputs": [],
   "source": [
    "for i in range(16):\n",
    "    chave = sheet.cells(i+2,4).value\n",
    "    # print(chave)\n",
    "    email = busca_email(chave)\n",
    "    sheet.cells(i+2,8).value = email\n",
    "    print(chave, email)"
   ]
  }
 ],
 "metadata": {
  "kernelspec": {
   "display_name": "Python [conda env:py311] *",
   "language": "python",
   "name": "conda-env-py311-py"
  },
  "language_info": {
   "codemirror_mode": {
    "name": "ipython",
    "version": 3
   },
   "file_extension": ".py",
   "mimetype": "text/x-python",
   "name": "python",
   "nbconvert_exporter": "python",
   "pygments_lexer": "ipython3",
   "version": "3.11.4"
  }
 },
 "nbformat": 4,
 "nbformat_minor": 5
}
