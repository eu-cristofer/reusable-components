{
 "cells": [
  {
   "cell_type": "code",
   "execution_count": 24,
   "id": "6c26e8e1",
   "metadata": {},
   "outputs": [],
   "source": [
    "import numpy as np"
   ]
  },
  {
   "cell_type": "markdown",
   "id": "98815601",
   "metadata": {},
   "source": [
    "### 2.1 - Seconds\n",
    "(a) Write a script that calculates the number of seconds, s, given the number of hours, h, according to the formula $s=3600h$.\\\n",
    "(b) Use the script to find the number of seconds in 1.5, 12 and 24 h."
   ]
  },
  {
   "cell_type": "code",
   "execution_count": 25,
   "id": "f64c0708",
   "metadata": {
    "scrolled": true
   },
   "outputs": [
    {
     "name": "stdout",
     "output_type": "stream",
     "text": [
      "5400.0 43200 86400\n"
     ]
    }
   ],
   "source": [
    "def seconds(h):\n",
    "    s = 3600 * h\n",
    "    return s\n",
    "\n",
    "print(seconds(1.5),\n",
    "      seconds(12),\n",
    "      seconds(24))"
   ]
  },
  {
   "cell_type": "markdown",
   "id": "3b9bc758",
   "metadata": {},
   "source": [
    "### 2.2 - Spherical mass\n",
    "(a) Write a script that calculates the mass of a sphere given its radius r and mass density $\\rho$ according to the formula $m=(4/3\\pi rˆ3)$.\\\n",
    "(b) Use the script to find the mass of a sphere of steel of radius 1mm, 1m, and 10m ."
   ]
  },
  {
   "cell_type": "code",
   "execution_count": 26,
   "id": "f379ac1d",
   "metadata": {},
   "outputs": [
    {
     "data": {
      "text/plain": [
       "33510.32163829113"
      ]
     },
     "execution_count": 26,
     "metadata": {},
     "output_type": "execute_result"
    }
   ],
   "source": [
    "def SphereMass(r,rho):\n",
    "    sm = 4/3 * rho * np.pi * r**3\n",
    "    return sm\n",
    "\n",
    "SphereMass(1,8000) #m, kg/m^3"
   ]
  },
  {
   "cell_type": "markdown",
   "id": "24678c01",
   "metadata": {},
   "source": [
    "### 2.3 - Angle\n",
    "(a) Write a function that for a point (x, y) returns the angle $\\theta$ from the x-axis using the formula $\\theta = arctan(y/x)$.\\\n",
    "(b) Find the angles $\\theta$ for the points (1, 1), (-1, 1), (-1, -1), (1, -1).\\\n",
    "(c) How would you change the function to return values of $\\theta$ in the range $[0,2\\pi]$?"
   ]
  },
  {
   "cell_type": "code",
   "execution_count": 48,
   "id": "314c9058",
   "metadata": {},
   "outputs": [
    {
     "name": "stdout",
     "output_type": "stream",
     "text": [
      "0.7853981633974483 0.7853981633974483 0.7853981633974483 0.7853981633974483\n"
     ]
    }
   ],
   "source": [
    "def Ang(x,y):\n",
    "    theta = np.arctan(x/y)\n",
    "    \n",
    "    # modifitcation to printout in the range of 0,2pi\n",
    "    if theta <= 0:\n",
    "        theta= -theta\n",
    "    \n",
    "    return theta\n",
    "\n",
    "print(Ang(1, 1), Ang(-1, 1), Ang(-1, -1), Ang(1, -1))"
   ]
  },
  {
   "cell_type": "markdown",
   "id": "fe2ab206",
   "metadata": {},
   "source": [
    "### 2.4 - Unit vector.\n",
    "(a) Write a function that returns the two-dimensional unit vector,$(u_x,u_y)$ , corresponding to an angle $\\theta$ with the x-axis. You can use the formula $(u_x,u_y)=(cos\\theta,sin\\theta)$, where  is given in radians.\\\n",
    "(b) Find the unit vectors for $\\theta = 0,\\pi/6,\\pi/3,\\pi/2,3\\pi/2$.\\\n",
    "(c) Rewrite the function to instead take the argument $\\theta$ in degrees.\\"
   ]
  },
  {
   "cell_type": "code",
   "execution_count": 56,
   "id": "9c8fc6a2",
   "metadata": {},
   "outputs": [
    {
     "name": "stdout",
     "output_type": "stream",
     "text": [
      "0.7071067811865476 0.7071067811865475\n"
     ]
    },
    {
     "data": {
      "text/plain": [
       "1.0"
      ]
     },
     "execution_count": 56,
     "metadata": {},
     "output_type": "execute_result"
    }
   ],
   "source": [
    "def UnitVector(Ang):\n",
    "    ux = np.cos(Ang)\n",
    "    uy = np.sin(Ang)\n",
    "    return ux,uy\n",
    "\n",
    "x,y = UnitVector(np.pi/4)\n",
    "print(x,y)\n",
    "\n",
    "np.sqrt(x**2 + y**2)"
   ]
  },
  {
   "cell_type": "code",
   "execution_count": 54,
   "id": "a510c651",
   "metadata": {},
   "outputs": [
    {
     "name": "stdout",
     "output_type": "stream",
     "text": [
      "(1.0, 0.0) (0.8660254037844387, 0.49999999999999994) (0.5000000000000001, 0.8660254037844386)\n"
     ]
    }
   ],
   "source": [
    "print(UnitVector(0),UnitVector(np.pi/6),UnitVector(np.pi/3))"
   ]
  },
  {
   "cell_type": "code",
   "execution_count": 69,
   "id": "8c64547e",
   "metadata": {},
   "outputs": [
    {
     "name": "stdout",
     "output_type": "stream",
     "text": [
      "0.7071067811865476 0.7071067811865475\n"
     ]
    },
    {
     "data": {
      "text/plain": [
       "1.0"
      ]
     },
     "execution_count": 69,
     "metadata": {},
     "output_type": "execute_result"
    }
   ],
   "source": [
    "def UnitVectorDegrees(Ang):\n",
    "    Ang = Ang * np.pi/180\n",
    "    ux = np.cos(Ang)\n",
    "    uy = np.sin(Ang)\n",
    "    return ux,uy\n",
    "\n",
    "x,y = UnitVectorDegrees(45)\n",
    "print(x,y)\n",
    "\n",
    "np.sqrt(x**2 + y**2)"
   ]
  },
  {
   "cell_type": "code",
   "execution_count": null,
   "id": "1f5ceabb",
   "metadata": {},
   "outputs": [],
   "source": []
  }
 ],
 "metadata": {
  "kernelspec": {
   "display_name": "Python 3",
   "language": "python",
   "name": "python3"
  },
  "language_info": {
   "codemirror_mode": {
    "name": "ipython",
    "version": 3
   },
   "file_extension": ".py",
   "mimetype": "text/x-python",
   "name": "python",
   "nbconvert_exporter": "python",
   "pygments_lexer": "ipython3",
   "version": "3.8.10"
  }
 },
 "nbformat": 4,
 "nbformat_minor": 5
}
